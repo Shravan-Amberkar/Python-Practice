{
 "cells": [
  {
   "cell_type": "code",
   "execution_count": null,
   "metadata": {},
   "outputs": [],
   "source": [
    "'''\n",
    "using sorted() function\n",
    "'''\n",
    "\n",
    "def anagram1(s1,s2):\n",
    "    # remove spaces and lowercase\n",
    "    s1=s1.replace(\" \", \"\").lower()\n",
    "    s2=s2.replace(\" \", \"\").lower()\n",
    "    \n",
    "    #return boolean for sorted match\n",
    "    return sorted(s1)== sorted(s2)"
   ]
  },
  {
   "cell_type": "code",
   "execution_count": 3,
   "metadata": {},
   "outputs": [],
   "source": [
    "'''\n",
    "Method 2 (Count characters)\n",
    "Time Complexity: O(nLogn)\n",
    "'''\n",
    "\n",
    "def anagram2(s1,s2):\n",
    "    # remove spaces and lowercase\n",
    "    s1=s1.replace(\" \", \"\").lower()\n",
    "    s2=s2.replace(\" \", \"\").lower()\n",
    "    \n",
    "    if len(s1)!= len(s2):\n",
    "        return False\n",
    "    \n",
    "    #count the frequency of each letter\n",
    "    count={}\n",
    "    \n",
    "    for letter in s1:\n",
    "        if letter in count:\n",
    "            count[letter] +=1\n",
    "        else:\n",
    "            count[letter] = 1\n",
    "    \n",
    "    #do reverse for second string\n",
    "    for letter in s2:\n",
    "        if letter in count:\n",
    "            count[letter] -=1\n",
    "        else:\n",
    "            count[letter] = 1\n",
    "            \n",
    "    for k in count:\n",
    "        if count[k] !=0:\n",
    "            return False\n",
    "    return True"
   ]
  },
  {
   "cell_type": "code",
   "execution_count": 5,
   "metadata": {},
   "outputs": [
    {
     "data": {
      "text/plain": [
       "False"
      ]
     },
     "execution_count": 5,
     "metadata": {},
     "output_type": "execute_result"
    }
   ],
   "source": [
    "anagram2('dog','godi')"
   ]
  },
  {
   "cell_type": "code",
   "execution_count": 6,
   "metadata": {},
   "outputs": [],
   "source": [
    "'''\n",
    "Time Complexity: O(n)\n",
    "\n",
    "Method 4 (Bit Manipulation)\n",
    "If we start at a value of 0 and XOR all the characters of both strings, \n",
    "we should return an end value of 0 if they are anagrams because there would be an even occurrence of all characters in it. .\n",
    "'''\n",
    "\n",
    "def anagram3(str1, str2): \n",
    "      \n",
    "    # If two strings have different size \n",
    "    if (len(str1) != len(str2)): \n",
    "        return False; \n",
    "  \n",
    "    # To store the xor value \n",
    "    value = 0; \n",
    "  \n",
    "    for i in range(0,len(str1)): \n",
    "        value = value ^ ord(str1[i]); \n",
    "        value = value ^ ord(str2[i]); \n",
    "  \n",
    "    return value == 0; "
   ]
  },
  {
   "cell_type": "code",
   "execution_count": 8,
   "metadata": {},
   "outputs": [
    {
     "data": {
      "text/plain": [
       "True"
      ]
     },
     "execution_count": 8,
     "metadata": {},
     "output_type": "execute_result"
    }
   ],
   "source": [
    "anagram3('dog','god')"
   ]
  }
 ],
 "metadata": {
  "kernelspec": {
   "display_name": "Python 3",
   "language": "python",
   "name": "python3"
  },
  "language_info": {
   "codemirror_mode": {
    "name": "ipython",
    "version": 3
   },
   "file_extension": ".py",
   "mimetype": "text/x-python",
   "name": "python",
   "nbconvert_exporter": "python",
   "pygments_lexer": "ipython3",
   "version": "3.7.3"
  }
 },
 "nbformat": 4,
 "nbformat_minor": 2
}
