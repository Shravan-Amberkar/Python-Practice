{
 "cells": [
  {
   "cell_type": "code",
   "execution_count": 17,
   "metadata": {},
   "outputs": [
    {
     "data": {
      "text/plain": [
       "8958978968711216842229769122273777112486581988938598139599956403855167484720643781523509973086428463104"
      ]
     },
     "execution_count": 17,
     "metadata": {},
     "output_type": "execute_result"
    }
   ],
   "source": [
    "\"\"\"\n",
    "using data structure pow\n",
    "runs faster for any value of b\n",
    "faster than \"fast exponention\"\n",
    "NOTE--> Pow function calculates in O(log n) time in python\n",
    "\"\"\"\n",
    "pow(4,171)\n"
   ]
  },
  {
   "cell_type": "code",
   "execution_count": 14,
   "metadata": {},
   "outputs": [
    {
     "name": "stdout",
     "output_type": "stream",
     "text": [
      "4\n",
      "8\n",
      "65536\n"
     ]
    }
   ],
   "source": [
    "\"\"\"\n",
    "FAST EXPONENTION\n",
    "Enter two numbers a and b (separated by newline) and the program will print a^b with O(log N) time complexity\n",
    "Works good till N^8\n",
    "\n",
    "\"\"\"\n",
    "\n",
    "def power(a, b):\n",
    "    \"\"\"\n",
    "    Return a to the power of b\n",
    "    \"\"\"\n",
    "    if(b == 0):\n",
    "        return 1\n",
    "    elif(b==1):\n",
    "        return a\n",
    "    else:\n",
    "        temp = power(a, b / 2)\n",
    "        if(b % 2 == 0):\n",
    "            return temp * temp\n",
    "        else:\n",
    "            return temp * a * temp \n",
    "\n",
    "if __name__ == '__main__':\n",
    "    a = int(input())\n",
    "    b = int(input())\n",
    "    print (power(a, b))"
   ]
  },
  {
   "cell_type": "code",
   "execution_count": 18,
   "metadata": {},
   "outputs": [],
   "source": [
    "# SPOJ-LASTDIG - The last digit\n",
    "#ONLY FINDS last digit\n",
    "# last digit of pow(ab)\n",
    "# MODULAR EXPONENTION----> O(logn) -->(0 <= b <= 2,147,483,000)\n",
    "# if done w/o modular exponention for large b values--> TLE\n",
    "def last(a,b):\n",
    "    if b<=4:\n",
    "        num=str(pow(a,b))\n",
    "        return num[-1]\n",
    "    else:\n",
    "        if b%4:\n",
    "            return last(a,b%4)\n",
    "        else:\n",
    "            return last(a,4)"
   ]
  },
  {
   "cell_type": "code",
   "execution_count": 19,
   "metadata": {},
   "outputs": [
    {
     "data": {
      "text/plain": [
       "'6'"
      ]
     },
     "execution_count": 19,
     "metadata": {},
     "output_type": "execute_result"
    }
   ],
   "source": []
  }
 ],
 "metadata": {
  "kernelspec": {
   "display_name": "Python 3",
   "language": "python",
   "name": "python3"
  },
  "language_info": {
   "codemirror_mode": {
    "name": "ipython",
    "version": 3
   },
   "file_extension": ".py",
   "mimetype": "text/x-python",
   "name": "python",
   "nbconvert_exporter": "python",
   "pygments_lexer": "ipython3",
   "version": "3.7.3"
  }
 },
 "nbformat": 4,
 "nbformat_minor": 2
}
