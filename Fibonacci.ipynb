{
 "cells": [
  {
   "cell_type": "code",
   "execution_count": 31,
   "metadata": {},
   "outputs": [],
   "source": [
    "#NOTE- Fibonacci starting with 1,1,2,3,5,8...\n",
    "\n",
    "#Print nth number in fibonacci series-->recursive-->O(2^n)\n",
    "def fib_normal(n):\n",
    "    if n==1 or n==2:\n",
    "        result=1\n",
    "    else:\n",
    "        result=fib_normal(n-1) + fib_normal(n-2)\n",
    "    return result\n",
    "\n",
    "#fib comprehensive\n",
    "def fib_compre(n):\n",
    "    return n if n < 2 else fib(n-2) + fib(n-1)"
   ]
  },
  {
   "cell_type": "code",
   "execution_count": 49,
   "metadata": {},
   "outputs": [],
   "source": [
    "#Print nth number in fibonacci series-->**Memoized**-->dynamic programming-->O(n)\n",
    "### ERROR for large numbers due to EXCESSIVE RECURSIVE- Solution??--> bottom up approach\n",
    "__fib_cache = {}\n",
    "def fib(n):\n",
    "    if n in __fib_cache:\n",
    "        return __fib_cache[n]\n",
    "    else:\n",
    "        __fib_cache[n] = n if n < 2 else fib(n-2) + fib(n-1)\n",
    "        return __fib_cache[n]\n",
    "####################### OR #########################    \n",
    "\n",
    "def fib_memo(n,memo):\n",
    "    if memo[n] is not None:\n",
    "        return memo[n]\n",
    "    if n==1 or n==2:\n",
    "        result=1\n",
    "    else:\n",
    "        result=fib_memo(n-1,memo) + fib_memo(n-2,memo)\n",
    "        memo[n]=result\n",
    "    return result\n",
    "        \n",
    "def fib_mem(n):\n",
    "    memo=[None]*(n+1)\n",
    "    #print(memo)\n",
    "    return fib_memo(n,memo)"
   ]
  },
  {
   "cell_type": "code",
   "execution_count": 52,
   "metadata": {},
   "outputs": [],
   "source": [
    "#Function for nth fibonacci number - **Space Optimisataion**--> O(n)\n",
    "# NO RECURSIVE- GOOD FOR LARGE NUMBERS\n",
    "#BOTTOM UP approach\n",
    "def fibonacci(n): \n",
    "    a = 1\n",
    "    b = 1 \n",
    "    if n == 1 or n==2: \n",
    "        return 1 \n",
    "    else: \n",
    "        for i in range(2,n): \n",
    "            c = a + b \n",
    "            a = b \n",
    "            b = c \n",
    "        return b \n",
    "    \n",
    "######### OR ##########\n",
    "def fib_bottom_up(n):\n",
    "    if n==1 or n==2:\n",
    "        return 1\n",
    "    bottom_up= [None]*(n+1)\n",
    "    bottom_up[1]=1\n",
    "    bottom_up[2]=1\n",
    "    for i in range (3, n+1):\n",
    "        bottom_up[i]= bottom_up[i-1] + bottom_up[i-2]\n",
    "    return bottom_up[n]"
   ]
  },
  {
   "cell_type": "code",
   "execution_count": null,
   "metadata": {},
   "outputs": [],
   "source": []
  }
 ],
 "metadata": {
  "kernelspec": {
   "display_name": "Python 3",
   "language": "python",
   "name": "python3"
  },
  "language_info": {
   "codemirror_mode": {
    "name": "ipython",
    "version": 3
   },
   "file_extension": ".py",
   "mimetype": "text/x-python",
   "name": "python",
   "nbconvert_exporter": "python",
   "pygments_lexer": "ipython3",
   "version": "3.7.3"
  }
 },
 "nbformat": 4,
 "nbformat_minor": 2
}
