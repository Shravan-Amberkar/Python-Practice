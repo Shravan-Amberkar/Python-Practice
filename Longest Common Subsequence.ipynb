{
 "cells": [
  {
   "cell_type": "code",
   "execution_count": 11,
   "metadata": {},
   "outputs": [
    {
     "name": "stdout",
     "output_type": "stream",
     "text": [
      "3\n"
     ]
    }
   ],
   "source": [
    "\n",
    "\"\"\"\n",
    "A subsequence is a sequence that appears in the same relative order, but not necessarily contiguous\n",
    "For example, “abc”, “abg”, “bdf”, “aeg”, ‘”acefg”, .. etc are subsequences of “abcdefg”\n",
    "O(2^n)\n",
    "Example-->LCS for input Sequences “ABCDGH” and “AEDFHR” is “ADH” of length 3.\n",
    "Application-->file comparison & bioinformatics\n",
    "\n",
    "\"\"\"  \n",
    "# Naive RECURSIVE Python implementation of LCS problem \n",
    "\n",
    "\n",
    "def lcs(X, Y, m, n): \n",
    "    if m == 0 or n == 0: \n",
    "        return 0 \n",
    "    elif X[m-1] == Y[n-1]: \n",
    "        return 1 + lcs(X, Y, m-1, n-1) \n",
    "    else: \n",
    "        return max(lcs(X, Y, m, n-1), lcs(X, Y, m-1, n)) \n",
    "##########\n",
    "X=\"ABCDGH\"\n",
    "Y=\"AEDFHR\"\n",
    "print (lcs(X, Y, len(X), len(Y)))"
   ]
  },
  {
   "cell_type": "code",
   "execution_count": null,
   "metadata": {},
   "outputs": [],
   "source": []
  },
  {
   "cell_type": "code",
   "execution_count": 21,
   "metadata": {
    "collapsed": true
   },
   "outputs": [
    {
     "name": "stdout",
     "output_type": "stream",
     "text": [
      "[['', '', '', ''], ['', '', '', ''], ['', '', '', ''], ['', '', '', ''], ['', '', '', ''], ['', '', '', ''], ['', '', '', '']]\n",
      "[['s', '', '', ''], ['', '', '', ''], ['', '', '', ''], ['', '', '', ''], ['', '', '', ''], ['', '', '', ''], ['', '', '', '']]\n",
      "[['s', 's', '', ''], ['', '', '', ''], ['', '', '', ''], ['', '', '', ''], ['', '', '', ''], ['', '', '', ''], ['', '', '', '']]\n",
      "[['s', 's', 's', ''], ['', '', '', ''], ['', '', '', ''], ['', '', '', ''], ['', '', '', ''], ['', '', '', ''], ['', '', '', '']]\n",
      "[['s', 's', 's', 's'], ['', '', '', ''], ['', '', '', ''], ['', '', '', ''], ['', '', '', ''], ['', '', '', ''], ['', '', '', '']]\n",
      "[['s', 's', 's', 's'], ['s', '', '', ''], ['', '', '', ''], ['', '', '', ''], ['', '', '', ''], ['', '', '', ''], ['', '', '', '']]\n",
      "[['s', 's', 's', 's'], ['s', 's', '', ''], ['', '', '', ''], ['', '', '', ''], ['', '', '', ''], ['', '', '', ''], ['', '', '', '']]\n",
      "[['s', 's', 's', 's'], ['s', 's', 's', ''], ['', '', '', ''], ['', '', '', ''], ['', '', '', ''], ['', '', '', ''], ['', '', '', '']]\n",
      "[['s', 's', 's', 's'], ['s', 's', 's', 's'], ['', '', '', ''], ['', '', '', ''], ['', '', '', ''], ['', '', '', ''], ['', '', '', '']]\n",
      "[['s', 's', 's', 's'], ['s', 's', 's', 's'], ['s', '', '', ''], ['', '', '', ''], ['', '', '', ''], ['', '', '', ''], ['', '', '', '']]\n",
      "[['s', 's', 's', 's'], ['s', 's', 's', 's'], ['s', 's', '', ''], ['', '', '', ''], ['', '', '', ''], ['', '', '', ''], ['', '', '', '']]\n",
      "[['s', 's', 's', 's'], ['s', 's', 's', 's'], ['s', 's', 's', ''], ['', '', '', ''], ['', '', '', ''], ['', '', '', ''], ['', '', '', '']]\n",
      "[['s', 's', 's', 's'], ['s', 's', 's', 's'], ['s', 's', 's', 's'], ['', '', '', ''], ['', '', '', ''], ['', '', '', ''], ['', '', '', '']]\n",
      "[['s', 's', 's', 's'], ['s', 's', 's', 's'], ['s', 's', 's', 's'], ['s', '', '', ''], ['', '', '', ''], ['', '', '', ''], ['', '', '', '']]\n",
      "[['s', 's', 's', 's'], ['s', 's', 's', 's'], ['s', 's', 's', 's'], ['s', 's', '', ''], ['', '', '', ''], ['', '', '', ''], ['', '', '', '']]\n",
      "[['s', 's', 's', 's'], ['s', 's', 's', 's'], ['s', 's', 's', 's'], ['s', 's', 'sa', ''], ['', '', '', ''], ['', '', '', ''], ['', '', '', '']]\n",
      "[['s', 's', 's', 's'], ['s', 's', 's', 's'], ['s', 's', 's', 's'], ['s', 's', 'sa', 'sa'], ['', '', '', ''], ['', '', '', ''], ['', '', '', '']]\n",
      "[['s', 's', 's', 's'], ['s', 's', 's', 's'], ['s', 's', 's', 's'], ['s', 's', 'sa', 'sa'], ['s', '', '', ''], ['', '', '', ''], ['', '', '', '']]\n",
      "[['s', 's', 's', 's'], ['s', 's', 's', 's'], ['s', 's', 's', 's'], ['s', 's', 'sa', 'sa'], ['s', 'sv', '', ''], ['', '', '', ''], ['', '', '', '']]\n",
      "[['s', 's', 's', 's'], ['s', 's', 's', 's'], ['s', 's', 's', 's'], ['s', 's', 'sa', 'sa'], ['s', 'sv', 'sa', ''], ['', '', '', ''], ['', '', '', '']]\n",
      "[['s', 's', 's', 's'], ['s', 's', 's', 's'], ['s', 's', 's', 's'], ['s', 's', 'sa', 'sa'], ['s', 'sv', 'sa', 'sa'], ['', '', '', ''], ['', '', '', '']]\n",
      "[['s', 's', 's', 's'], ['s', 's', 's', 's'], ['s', 's', 's', 's'], ['s', 's', 'sa', 'sa'], ['s', 'sv', 'sa', 'sa'], ['s', '', '', ''], ['', '', '', '']]\n",
      "[['s', 's', 's', 's'], ['s', 's', 's', 's'], ['s', 's', 's', 's'], ['s', 's', 'sa', 'sa'], ['s', 'sv', 'sa', 'sa'], ['s', 'sv', '', ''], ['', '', '', '']]\n",
      "[['s', 's', 's', 's'], ['s', 's', 's', 's'], ['s', 's', 's', 's'], ['s', 's', 'sa', 'sa'], ['s', 'sv', 'sa', 'sa'], ['s', 'sv', 'sva', ''], ['', '', '', '']]\n",
      "[['s', 's', 's', 's'], ['s', 's', 's', 's'], ['s', 's', 's', 's'], ['s', 's', 'sa', 'sa'], ['s', 'sv', 'sa', 'sa'], ['s', 'sv', 'sva', 'sva'], ['', '', '', '']]\n",
      "[['s', 's', 's', 's'], ['s', 's', 's', 's'], ['s', 's', 's', 's'], ['s', 's', 'sa', 'sa'], ['s', 'sv', 'sa', 'sa'], ['s', 'sv', 'sva', 'sva'], ['s', '', '', '']]\n",
      "[['s', 's', 's', 's'], ['s', 's', 's', 's'], ['s', 's', 's', 's'], ['s', 's', 'sa', 'sa'], ['s', 'sv', 'sa', 'sa'], ['s', 'sv', 'sva', 'sva'], ['s', 'sv', '', '']]\n",
      "[['s', 's', 's', 's'], ['s', 's', 's', 's'], ['s', 's', 's', 's'], ['s', 's', 'sa', 'sa'], ['s', 'sv', 'sa', 'sa'], ['s', 'sv', 'sva', 'sva'], ['s', 'sv', 'sva', '']]\n",
      "[['s', 's', 's', 's'], ['s', 's', 's', 's'], ['s', 's', 's', 's'], ['s', 's', 'sa', 'sa'], ['s', 'sv', 'sa', 'sa'], ['s', 'sv', 'sva', 'sva'], ['s', 'sv', 'sva', 'svan']]\n",
      "(4, 'svan')\n"
     ]
    }
   ],
   "source": [
    "'''\n",
    "MEMOIZATION + Dynamic programing\n",
    "'''\n",
    "\n",
    "def lcs(s1, s2):\n",
    "    matrix = [[\"\" for x in range(len(s2))] for x in range(len(s1))]\n",
    "    #print (matrix)\n",
    "    for i in range(len(s1)):\n",
    "        for j in range(len(s2)):\n",
    "            if s1[i] == s2[j]:\n",
    "                if i == 0 or j == 0:\n",
    "                    matrix[i][j] = s1[i]\n",
    "                    #print(matrix)\n",
    "                else:\n",
    "                    matrix[i][j] = matrix[i-1][j-1] + s1[i]\n",
    "                    #print(matrix)\n",
    "            else:\n",
    "                matrix[i][j] = max(matrix[i-1][j], matrix[i][j-1], key=len)\n",
    "                #print(matrix)\n",
    "\n",
    "    cs = matrix[-1][-1]\n",
    "\n",
    "    return len(cs), cs\n",
    "\n",
    "print(lcs(\"shravan\", \"svan\"))  "
   ]
  }
 ],
 "metadata": {
  "kernelspec": {
   "display_name": "Python 3",
   "language": "python",
   "name": "python3"
  },
  "language_info": {
   "codemirror_mode": {
    "name": "ipython",
    "version": 3
   },
   "file_extension": ".py",
   "mimetype": "text/x-python",
   "name": "python",
   "nbconvert_exporter": "python",
   "pygments_lexer": "ipython3",
   "version": "3.7.3"
  }
 },
 "nbformat": 4,
 "nbformat_minor": 2
}
