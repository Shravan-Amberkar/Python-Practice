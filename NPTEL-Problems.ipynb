{
 "cells": [
  {
   "cell_type": "code",
   "execution_count": 14,
   "metadata": {},
   "outputs": [],
   "source": [
    "'''\n",
    "Here is an function to return the maximum value in a list of integers. \n",
    "There is an error in this function. \n",
    "Provide an input list for which maxbad produces an incorrect output\n",
    "'''\n",
    "\n",
    "def maxbad(l):\n",
    "    mymax = 0\n",
    "    for i in range(len(l)):\n",
    "        if l[i] > mymax:\n",
    "            mymax = l[i]\n",
    "    return(mymax)"
   ]
  },
  {
   "cell_type": "code",
   "execution_count": 15,
   "metadata": {},
   "outputs": [
    {
     "ename": "TypeError",
     "evalue": "'function' object is not subscriptable",
     "output_type": "error",
     "traceback": [
      "\u001b[1;31m---------------------------------------------------------------------------\u001b[0m",
      "\u001b[1;31mTypeError\u001b[0m                                 Traceback (most recent call last)",
      "\u001b[1;32m<ipython-input-15-880762f2b896>\u001b[0m in \u001b[0;36m<module>\u001b[1;34m\u001b[0m\n\u001b[1;32m----> 1\u001b[1;33m \u001b[0mmaxbad\u001b[0m\u001b[1;33m[\u001b[0m\u001b[1;33m-\u001b[0m\u001b[1;36m6\u001b[0m\u001b[1;33m,\u001b[0m \u001b[1;33m-\u001b[0m\u001b[1;36m7\u001b[0m\u001b[1;33m,\u001b[0m \u001b[1;33m-\u001b[0m\u001b[1;36m8\u001b[0m\u001b[1;33m,\u001b[0m \u001b[1;33m-\u001b[0m\u001b[1;36m100\u001b[0m\u001b[1;33m,\u001b[0m \u001b[1;33m-\u001b[0m\u001b[1;36m45\u001b[0m\u001b[1;33m,\u001b[0m \u001b[1;33m-\u001b[0m\u001b[1;36m67\u001b[0m\u001b[1;33m]\u001b[0m\u001b[1;33m\u001b[0m\u001b[1;33m\u001b[0m\u001b[0m\n\u001b[0m",
      "\u001b[1;31mTypeError\u001b[0m: 'function' object is not subscriptable"
     ]
    }
   ],
   "source": [
    "maxbad[-6, -7, -8, -100, -45, -67]"
   ]
  },
  {
   "cell_type": "code",
   "execution_count": 29,
   "metadata": {},
   "outputs": [],
   "source": [
    "'''\n",
    "Here is a function stablesortbad that takes a list of pairs of integers as input \n",
    "and sorts them by the second coordinate in each pair.\n",
    "A stable sort preserves the order of pairs that have an equal second coordinate. \n",
    "This is not a stable sort.\n",
    "Provide an input for which stablesortbad produces an output that is not stably sorted. \n",
    "Your input should be a list of pairs of integers of the form [(i1,j1),(i2,j2),...,(in,jn)].\n",
    "\n",
    "'''\n",
    "def stablesortbad(l):\n",
    "    for j in range(len(l)-1):\n",
    "        for i in range(len(l)-1):\n",
    "            if l[i][1] >= l[i+1][1]: # here it should be if l[i][1] > l[i+1][1]:\n",
    "                (l[i],l[i+1]) =  (l[i+1],l[i])\n",
    "    return(l)"
   ]
  },
  {
   "cell_type": "code",
   "execution_count": 30,
   "metadata": {},
   "outputs": [
    {
     "data": {
      "text/plain": [
       "[(53, 11), (4, 11)]"
      ]
     },
     "execution_count": 30,
     "metadata": {},
     "output_type": "execute_result"
    }
   ],
   "source": [
    "stablesortbad([(4,11),(53,11)])  # a stablesort preserves the order of pairs that have an equal second coordinate"
   ]
  },
  {
   "cell_type": "code",
   "execution_count": 45,
   "metadata": {},
   "outputs": [],
   "source": [
    "\n",
    "'''\n",
    "Here is a function to compute the third smallest value in a list of distinct integers. \n",
    "All the integers are guaranteed to be below 1000000. \n",
    "You have to fill in the missing lines.\n",
    "You can assume that there are at least three numbers in the list.\n",
    "\n",
    "'''\n",
    "def thirdmin(l):\n",
    "    (mymin,mysecondmin,mythirdmin) = (1000000,1000000,1000000)\n",
    "    for i in range(len(l)):\n",
    "        l.sort()\n",
    "        break\n",
    "    mythirdmin = l[2]\n",
    "    return mythirdmin"
   ]
  },
  {
   "cell_type": "code",
   "execution_count": 46,
   "metadata": {
    "scrolled": true
   },
   "outputs": [
    {
     "data": {
      "text/plain": [
       "5"
      ]
     },
     "execution_count": 46,
     "metadata": {},
     "output_type": "execute_result"
    }
   ],
   "source": [
    "thirdmin([13,12,2,17,3,6,8,5])"
   ]
  },
  {
   "cell_type": "code",
   "execution_count": 59,
   "metadata": {},
   "outputs": [],
   "source": [
    "'''\n",
    "intersect(l1,l2) takes 2 sorted lists as arguments and returns the list of all elements common to both l1 and l2 \n",
    "in the same order that they appear in the two lists. \n",
    "If the same element occurs more than once in both lists, it should appear in the output exactly once.\n",
    "\n",
    "Thus, intersect([2,2,4],[1,2,2,3,4]) should return [2, 4] while intersect([1,2,3],[4,5,6]) should return [].\n",
    "'''\n",
    "\n",
    "def intersect(l1,l2):\n",
    "    newl1=list(set(l1))\n",
    "    newl2=list(set(l2))\n",
    "    #print(newl1)\n",
    "   # print(newl2)\n",
    "    \n",
    "    newlist=[]\n",
    "    for i in newl1:\n",
    "        if i in newl2:\n",
    "            newlist.append(i)\n",
    "    newlist.sort()\n",
    "    return(newlist)"
   ]
  },
  {
   "cell_type": "code",
   "execution_count": 60,
   "metadata": {
    "scrolled": true
   },
   "outputs": [
    {
     "name": "stdout",
     "output_type": "stream",
     "text": [
      "[2, 4]\n",
      "[1, 2, 3, 4]\n"
     ]
    },
    {
     "data": {
      "text/plain": [
       "[2, 4]"
      ]
     },
     "execution_count": 60,
     "metadata": {},
     "output_type": "execute_result"
    }
   ],
   "source": [
    "intersect([2,2,4],[1,2,2,3,4])"
   ]
  },
  {
   "cell_type": "code",
   "execution_count": 62,
   "metadata": {},
   "outputs": [
    {
     "name": "stdout",
     "output_type": "stream",
     "text": [
      "the\n",
      "Spot the mistake\n",
      "in the following argument\"\n",
      "Jack challenged\n",
      "+(-1+1)+(-1+1)+... = (1+ -1)+(1+ -1)+...\n",
      "so therefore\n",
      "1 = 0\n",
      "??\n",
      "\n",
      "so therefore\n"
     ]
    }
   ],
   "source": [
    "'''\n",
    "takes pattern from first line and returns last line with the pattern\n",
    "'''\n",
    "\n",
    "store=[]\n",
    "while(1):\n",
    "    a=input()\n",
    "    if(a==\"\"):\n",
    "        break\n",
    "    store.append(a)\n",
    "p=store[0]\n",
    "a=\"\"\n",
    "for i in range(len(store)-1,0,-1):\n",
    "    if(store[i].find(p)!=-1):\n",
    "        a=store[i]\n",
    "        break\n",
    "print(a)"
   ]
  },
  {
   "cell_type": "code",
   "execution_count": 63,
   "metadata": {},
   "outputs": [],
   "source": [
    "'''\n",
    "maxaverage([('Kohli',73),('Ashwin',33),('Kohli',7),('Pujara',122),('Ashwin',90)]) should return ['Pujara'] \n",
    "because the average score of Kolhi is 40 (80 divided by 2), of Ashwin is 61.5 (123 divided by 2) \n",
    "and of Pujara is 122 (122 divided by 1),of which 122 is the highest.\n",
    "\n",
    "\n",
    "'''\n",
    "\n",
    "def maxaverage(l):\n",
    "    d = {}\n",
    "    for i in l:\n",
    "        name, score = i\n",
    "        if name in d:\n",
    "            tot_score, num = d[name]\n",
    "            d[name] = (tot_score+score, num+1)\n",
    "        else:\n",
    "            d[name] = (score, 1)\n",
    "    max= -1\n",
    "    for key in d:\n",
    "        tot_score, num = d[key]\n",
    "        ave = tot_score/num\n",
    "        if(max < ave):\n",
    "            max = ave\n",
    "    l = []\n",
    "    for key in d:\n",
    "        tot_score, num = d[key]\n",
    "        ave = tot_score/num\n",
    "        if(max == ave):\n",
    "            l.append(key)\n",
    "    l.sort()\n",
    "    return l"
   ]
  },
  {
   "cell_type": "code",
   "execution_count": 64,
   "metadata": {},
   "outputs": [
    {
     "data": {
      "text/plain": [
       "['Pujara']"
      ]
     },
     "execution_count": 64,
     "metadata": {},
     "output_type": "execute_result"
    }
   ],
   "source": [
    "maxaverage([('Kohli',73),('Ashwin',33),('Kohli',7),('Pujara',122),('Ashwin',90)])"
   ]
  },
  {
   "cell_type": "code",
   "execution_count": 1,
   "metadata": {},
   "outputs": [
    {
     "name": "stdout",
     "output_type": "stream",
     "text": [
      "2\n",
      "3\n",
      "4\n"
     ]
    },
    {
     "data": {
      "text/plain": [
       "True"
      ]
     },
     "execution_count": 1,
     "metadata": {},
     "output_type": "execute_result"
    }
   ],
   "source": [
    "'''\n",
    "isprimebad that takes a positive integer as input and returns True if the number is prime and False otherwise. \n",
    "There is an error in this function. \n",
    "Provide an input n, which is a positive integer, for which isprimebad produces an incorrect output\n",
    "'''\n",
    "\n",
    "import math\n",
    "\n",
    "def isprimebad(n):\n",
    "      if n < 2:\n",
    "        return(False)\n",
    "      else:\n",
    "        for i in range(2, int(math.sqrt(n))):\n",
    "            print (i)\n",
    "            if n%i == 0:\n",
    "                return(False)\n",
    "        return(True)\n",
    "isprimebad(25) #SOLUTION--> provides incorrect ouput fr square numbers"
   ]
  },
  {
   "cell_type": "code",
   "execution_count": 5,
   "metadata": {},
   "outputs": [
    {
     "data": {
      "text/plain": [
       "[(7, 3), (2, 10)]"
      ]
     },
     "execution_count": 5,
     "metadata": {},
     "output_type": "execute_result"
    }
   ],
   "source": [
    "'''\n",
    "lexsortbad that takes a list of pairs of integers as input \n",
    "and returns them in lexicographically sorted order (i.e., dictionary order).\n",
    "There is an error is this function. Provide an input for which lexsortbad produces an incorrect output. \n",
    "Your input should be a list of pairs of integers of the form [(i1,j1),(i2,j2),...,(in,jn)].\n",
    "\n",
    "'''\n",
    "\n",
    "def lexsortbad(l):\n",
    "    for k in range(2):\n",
    "        for j in range(len(l)-1):\n",
    "              for i in range(len(l)-1):\n",
    "                    if l[i][k] > l[i+1][k]:\n",
    "                          (l[i],l[i+1]) = (l[i+1],l[i])\n",
    "    return(l)\n",
    "lexsortbad([(2,10),(7,3)])"
   ]
  },
  {
   "cell_type": "code",
   "execution_count": 6,
   "metadata": {},
   "outputs": [
    {
     "data": {
      "text/plain": [
       "17"
      ]
     },
     "execution_count": 6,
     "metadata": {},
     "output_type": "execute_result"
    }
   ],
   "source": [
    "'''\n",
    " function to compute the largest of four input integers\n",
    "\n",
    "'''\n",
    "\n",
    "def max4(w,x,y,z):\n",
    "    if w >= x and w >= y and w >= z:\n",
    "        maximum = w\n",
    "    elif x>=y and x>=z:\n",
    "        maximum = x\n",
    "    elif y>=z:\n",
    "        maximum = y\n",
    "    else:\n",
    "        maximum = z\n",
    "\n",
    "  # Your code above this line\n",
    "    return(maximum)\n",
    "max4(11,13,15,17)"
   ]
  },
  {
   "cell_type": "code",
   "execution_count": 7,
   "metadata": {},
   "outputs": [
    {
     "data": {
      "text/plain": [
       "True"
      ]
     },
     "execution_count": 7,
     "metadata": {},
     "output_type": "execute_result"
    }
   ],
   "source": [
    "'''\n",
    "A list is a non-decreasing if each element is at least as big as the preceding one.\n",
    "For instance [], [7], [8,8,11] and [3,19,44,44,63,89] are non-decreasing, while [3,18,4] and [23,14,3,14,3,23] are not. \n",
    "Here is a recursive function to check if a list is non-decreasing. \n",
    "You have to fill in the missing argument for the RECURSIVE call.\n",
    "\n",
    "'''\n",
    "def nondecreasing(l):\n",
    "    if l==[] or len(l) == 1:\n",
    "        return(True)\n",
    "    else:\n",
    "        return(l==sorted(l))\n",
    "nondecreasing([8,8,11])"
   ]
  },
  {
   "cell_type": "code",
   "execution_count": null,
   "metadata": {},
   "outputs": [],
   "source": [
    "'''\n",
    "Write a Python function sumofsquares(n) that takes a positive integer argument \n",
    "and returns True if the integer is a sum of squares, and False otherwise.\n",
    "\n",
    "'''\n",
    "\n",
    "\n",
    "#--> TLE\n",
    "\n",
    "def sumofsquares(n):\n",
    "    for i in range(1,n):\n",
    "        #print(i)\n",
    "        for j in range(1,n):\n",
    "            #print(j)\n",
    "            if (i**2 + j**2)==n:\n",
    "                return True\n",
    "\n",
    "    return False"
   ]
  },
  {
   "cell_type": "code",
   "execution_count": 8,
   "metadata": {},
   "outputs": [
    {
     "data": {
      "text/plain": [
       "True"
      ]
     },
     "execution_count": 8,
     "metadata": {},
     "output_type": "execute_result"
    }
   ],
   "source": [
    "#SUCCEED --> USING HASHMAP METHOD\n",
    "def sumSquare(n): \n",
    "  \n",
    "    s = dict() \n",
    "    for i in range(n): \n",
    "  \n",
    "        if i * i > n: \n",
    "            break\n",
    "  \n",
    "        # store square value in hashmap \n",
    "        s[i * i] = 1\n",
    "        #print(s)\n",
    "  \n",
    "        if (n - i * i) in s.keys():\n",
    "            return True\n",
    "          \n",
    "    return False\n",
    "sumSquare(25)"
   ]
  },
  {
   "cell_type": "code",
   "execution_count": 11,
   "metadata": {},
   "outputs": [
    {
     "data": {
      "text/plain": [
       "False"
      ]
     },
     "execution_count": 11,
     "metadata": {},
     "output_type": "execute_result"
    }
   ],
   "source": [
    "def sumof3squares(n):\n",
    "    lst = range(1, n-1)\n",
    "    for i in lst:\n",
    "        for j in lst:\n",
    "            for k in lst:\n",
    "                if (i**2 + j**2 + k**2) == n:\n",
    "                      return True\n",
    "    return False\n",
    "sumof3squares(16)"
   ]
  },
  {
   "cell_type": "code",
   "execution_count": 9,
   "metadata": {},
   "outputs": [
    {
     "name": "stdout",
     "output_type": "stream",
     "text": [
      "\n"
     ]
    }
   ],
   "source": [
    "'''\n",
    "Write a Python program that reads input from the keyboard (standard input). \n",
    "The input will consist of some number of lines of text.\n",
    "The input will be terminated by a blank line. \n",
    "The first line will consist of a single word to be interpreted as a pattern, after discarding the new line character.\n",
    "Your program should print every line from the second line onward that contains an occurrence of the pattern.\n",
    "'''\n",
    "'''\n",
    "INPUT-->\n",
    "\n",
    "\"Spot the mistake\n",
    "in the following argument\",\n",
    "Jack challenged\n",
    "1+(-1+1)+(-1+1)+... = (1+ -1)+(1+ -1)+...\n",
    "so therefore,\n",
    "1 = 0\n",
    "??\n",
    "\n",
    "\n",
    "OUPUT-->\n",
    "Spot the mistake\n",
    "in the following argument\",\n",
    "so therefore,\n",
    "\n",
    "'''\n",
    "\n",
    "\n",
    "data=input()\n",
    "s = data #stores the pattern\n",
    "l=[]\n",
    "#l.append(data)\n",
    "while data:\n",
    "    data=input()\n",
    "    if data==\"\":\n",
    "        break\n",
    "    l.append(data)\n",
    "for i in range(len(l)):\n",
    "    if l[i].find(s)!=-1: # if pattern not found it returns -1\n",
    "        print (l[i])\n",
    "\n"
   ]
  },
  {
   "cell_type": "code",
   "execution_count": 10,
   "metadata": {},
   "outputs": [
    {
     "name": "stdout",
     "output_type": "stream",
     "text": [
      "['Kohli', 'Ashwin', 'Pujara']\n"
     ]
    }
   ],
   "source": [
    "'''\n",
    "maxaggregate([('Kohli',73),('Ashwin',33),('Kohli',7),('Pujara',122),('Ashwin',90)]) should return ['Ashwin'] \n",
    "because the aggregate score of Kolhi is 80, of Ashwin is 123 and of Pujara is 122, of which 123 is the highest\n",
    "\n",
    "'''\n",
    "\n",
    "\n",
    "def maxaggregate(l):\n",
    "    scores={}\n",
    "    highest=[]\n",
    "    for name,score in l:\n",
    "        if name in scores:\n",
    "            scores[name]+=score\n",
    "        else:\n",
    "            scores[name]=score\n",
    "    \n",
    "    flipped = {}  \n",
    "\n",
    "    for key, value in scores.items():\n",
    "        if value not in flipped:\n",
    "            flipped[value] = [key]\n",
    "        else:\n",
    "            flipped[value].append(key)\n",
    "    maximum=max(flipped.items())\n",
    "    print(maximum[1])\n",
    "    \n",
    "maxaggregate([('Kohli',73),('Ashwin',33),('Kohli',69),('Pujara',142),('Ashwin',109)])"
   ]
  },
  {
   "cell_type": "code",
   "execution_count": null,
   "metadata": {},
   "outputs": [],
   "source": []
  }
 ],
 "metadata": {
  "kernelspec": {
   "display_name": "Python 3",
   "language": "python",
   "name": "python3"
  },
  "language_info": {
   "codemirror_mode": {
    "name": "ipython",
    "version": 3
   },
   "file_extension": ".py",
   "mimetype": "text/x-python",
   "name": "python",
   "nbconvert_exporter": "python",
   "pygments_lexer": "ipython3",
   "version": "3.7.3"
  }
 },
 "nbformat": 4,
 "nbformat_minor": 2
}
