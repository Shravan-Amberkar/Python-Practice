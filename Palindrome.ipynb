{
 "cells": [
  {
   "cell_type": "code",
   "execution_count": 1,
   "metadata": {},
   "outputs": [],
   "source": [
    "'''\n",
    "Recursive palindrome without any LOOP\n",
    "'''\n",
    "\n",
    "def ispalindrome(word):\n",
    "    if len(word) < 2: return True\n",
    "    if word[0] != word[-1]: return False\n",
    "    return ispalindrome(word[1:-1])\n"
   ]
  },
  {
   "cell_type": "code",
   "execution_count": 2,
   "metadata": {},
   "outputs": [
    {
     "data": {
      "text/plain": [
       "False"
      ]
     },
     "execution_count": 2,
     "metadata": {},
     "output_type": "execute_result"
    }
   ],
   "source": [
    "ispalindrome([13,12,11,13])"
   ]
  },
  {
   "cell_type": "code",
   "execution_count": 3,
   "metadata": {},
   "outputs": [
    {
     "data": {
      "text/plain": [
       "True"
      ]
     },
     "execution_count": 3,
     "metadata": {},
     "output_type": "execute_result"
    }
   ],
   "source": [
    "ispalindrome([13,12,13])"
   ]
  },
  {
   "cell_type": "code",
   "execution_count": null,
   "metadata": {},
   "outputs": [],
   "source": [
    "'''\n",
    "ONE LINER PALINDROME\n",
    "'''\n",
    "def ispalindrome(word):\n",
    "    return word == word[::-1]"
   ]
  },
  {
   "cell_type": "code",
   "execution_count": null,
   "metadata": {},
   "outputs": [],
   "source": [
    "###################################################\n",
    "#  PALIN - The Next Palindrome - PERFECT SOLUTION #\n",
    "###################################################\n",
    "'''\n",
    "For a given positive integer K of not more than 1000000 digits,\n",
    "write the value of the smallest palindrome larger than K to output.\n",
    "Numbers are always displayed without leading zeros.\n",
    "\n",
    "divides the string into Half to avoid TLE\n",
    "\n",
    "'''\n",
    "try:\n",
    "    def calc(K): #87654\n",
    "        length = len(K) #5\n",
    "        l = len(K)//2 #2\n",
    "        str1 = K[0:l] # 87\n",
    "        str2 = str1[::-1] #678\n",
    "        if K.count(\"9\")==length:  #special case if all are 9999...\n",
    "            ans = \"1\"+\"0\"*(length-1)+\"1\"\n",
    "            return ans\n",
    "        \n",
    "        if length%2==0: # if even lenght \n",
    "            num = str1 + str2  #87678\n",
    "            if num>K: #87678 > 87654\n",
    "                ans = num\n",
    "                return ans  #---> 87678 \n",
    "            else:\n",
    "                num = str(int(str1)+1) \n",
    "                ans = num+num[::-1]\n",
    "                return ans\n",
    "        else:\n",
    "            num = str1+K[l]+str2  # if odd lenght\n",
    "            if num>K:\n",
    "                ans = num\n",
    "                return ans\n",
    "            else:\n",
    "                c = str(int(str1+K[l])+1)\n",
    "                num = c+c[0:-1][::-1]\n",
    "                ans = num\n",
    "                return ans\n",
    "\n",
    "    T = int(input())\n",
    "    for z in range(T):\n",
    "        K = input()\n",
    "        print(calc(K))\n",
    "\n",
    "except EOFError:\n",
    "    None\n",
    "except ValueError:\n",
    "    None"
   ]
  }
 ],
 "metadata": {
  "kernelspec": {
   "display_name": "Python 3",
   "language": "python",
   "name": "python3"
  },
  "language_info": {
   "codemirror_mode": {
    "name": "ipython",
    "version": 3
   },
   "file_extension": ".py",
   "mimetype": "text/x-python",
   "name": "python",
   "nbconvert_exporter": "python",
   "pygments_lexer": "ipython3",
   "version": "3.7.3"
  }
 },
 "nbformat": 4,
 "nbformat_minor": 2
}
